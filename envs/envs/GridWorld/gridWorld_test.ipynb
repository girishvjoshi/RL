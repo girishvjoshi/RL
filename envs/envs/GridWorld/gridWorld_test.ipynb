{
 "cells": [
  {
   "cell_type": "markdown",
   "metadata": {},
   "source": [
    "Author: Girish Joshi (NetID: girishj2)\n",
    "Homework-1 Grid World\n",
    "This notebook Implements the grid world environment. "
   ]
  },
  {
   "cell_type": "code",
   "execution_count": 13,
   "metadata": {},
   "outputs": [
    {
     "name": "stdout",
     "output_type": "stream",
     "text": [
      "Current State: None Action 0\n",
      "oToTo\n",
      "ooooo\n",
      "ooooo\n",
      "oooox\n",
      "ooooo\n",
      "Next State: 19 Reward: 0\n",
      "Current State: 19 Action 2\n",
      "oToTo\n",
      "ooooo\n",
      "ooooo\n",
      "ooooo\n",
      "oooox\n",
      "Next State: 24 Reward: 0\n",
      "Current State: 24 Action 3\n",
      "oToTo\n",
      "ooooo\n",
      "ooooo\n",
      "ooooo\n",
      "oooxo\n",
      "Next State: 23 Reward: 0\n",
      "Current State: 23 Action 1\n",
      "oToTo\n",
      "ooooo\n",
      "ooooo\n",
      "ooooo\n",
      "oooox\n",
      "Next State: 24 Reward: 0\n",
      "Current State: 24 Action 0\n",
      "oToTo\n",
      "ooooo\n",
      "ooooo\n",
      "oooox\n",
      "ooooo\n",
      "Next State: 19 Reward: 0\n"
     ]
    }
   ],
   "source": [
    "from myGridworld import gridWorldEnv\n",
    "env  = gridWorldEnv()\n",
    "s = env.reset()\n",
    "for i in range(5):\n",
    "    action = env.action_space_sample()\n",
    "    print('Current State:',s, 'Action', action)\n",
    "    s,r,done = env.step(action)\n",
    "    env.render()\n",
    "    print('Next State:', s, 'Reward:',r)\n"
   ]
  }
 ],
 "metadata": {
  "kernelspec": {
   "display_name": "Python 3",
   "language": "python",
   "name": "python3"
  },
  "language_info": {
   "codemirror_mode": {
    "name": "ipython",
    "version": 3
   },
   "file_extension": ".py",
   "mimetype": "text/x-python",
   "name": "python",
   "nbconvert_exporter": "python",
   "pygments_lexer": "ipython3",
   "version": "3.5.3"
  }
 },
 "nbformat": 4,
 "nbformat_minor": 2
}
