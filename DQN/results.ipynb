{
 "cells": [
  {
   "cell_type": "code",
   "execution_count": 1,
   "metadata": {},
   "outputs": [
    {
     "data": {
      "image/png": "[encoded data removed]",
      "text/plain": [
       "<matplotlib.figure.Figure at 0x108e41470>"
      ]
     },
     "metadata": {},
     "output_type": "display_data"
    }
   ],
   "source": [
    "import pickle\n",
    "import matplotlib.pyplot as plt\n",
    "%matplotlib inline\n",
    "\n",
    "file_name = 'Results_DQN_test1'\n",
    "\n",
    "with open(file_name, 'rb') as file:\n",
    "    avgReward = pickle.load(file)\n",
    "    \n",
    "plt.plot(avgReward)\n",
    "plt.xlabel('Epochs')\n",
    "plt.ylabel('Average Reward')\n",
    "plt.grid(axis='both')\n",
    "plt.show()"
   ]
  },
  {
   "cell_type": "code",
   "execution_count": 2,
   "metadata": {},
   "outputs": [
    {
     "name": "stderr",
     "output_type": "stream",
     "text": [
      "[2018-09-19 21:40:55,158] Making new env: CartPole-v0\n"
     ]
    }
   ],
   "source": [
    "import numpy as np \n",
    "import tensorflow as tf \n",
    "import gym\n",
    "\n",
    "env = gym.make('CartPole-v0')\n",
    "\n",
    "state_dim = env.observation_space.shape[0]\n",
    "action_dim = env.action_space.n\n",
    "\n",
    "\n",
    "def DQN(w1,w2,w3,b1,b2,b3):\n",
    "\n",
    "        inputs = tf.placeholder(tf.float32,[None,state_dim], name='inputs')\n",
    "        \n",
    "        # Create the 1st layer of Neural Network\n",
    "        h1 = tf.nn.tanh(tf.matmul(inputs,w1) + b1) \n",
    "\n",
    "        # Create the 2nd Layer of Neural Nework (Action Inserted in the second layer)\n",
    "        h2 = tf.nn.tanh(tf.matmul(h1,w2) + b2)\n",
    "\n",
    "        # Create the output layer of the Neural Network\n",
    "        out = tf.add(tf.matmul(h2,w3), b3, name='Net_output')\n",
    "\n",
    "        return inputs, out\n",
    "\n",
    "with tf.Session() as sess:\n",
    "    saver = tf.train.import_meta_graph('DQN_Results/DQN_net.meta')\n",
    "    saver.restore(sess,tf.train.latest_checkpoint('DQN_Results'))\n",
    "    w1 = sess.run('w1:0')\n",
    "    w2 = sess.run('w2:0')\n",
    "    w3 = sess.run('w3:0')\n",
    "    b1 = sess.run('b1:0')\n",
    "    b2 = sess.run('b2:0')\n",
    "    b3 = sess.run('b3:0')\n",
    "\n",
    "    inputs, out = DQN(w1,w2,w3,b1,b2,b3)\n",
    "    s = env.reset()\n",
    "    for i in range(999):\n",
    "        env.render()\n",
    "        \n",
    "        Qval = sess.run(out, feed_dict={inputs:np.reshape(s,(1,state_dim))})\n",
    "        action = np.argmax(Qval)\n",
    "        s1,r,done,_ = env.step(action)\n",
    "        s = s1\n",
    "        if done:\n",
    "            break"
   ]
  }
 ],
 "metadata": {
  "kernelspec": {
   "display_name": "Python 3",
   "language": "python",
   "name": "python3"
  },
  "language_info": {
   "codemirror_mode": {
    "name": "ipython",
    "version": 3
   },
   "file_extension": ".py",
   "mimetype": "text/x-python",
   "name": "python",
   "nbconvert_exporter": "python",
   "pygments_lexer": "ipython3",
   "version": "3.5.3"
  }
 },
 "nbformat": 4,
 "nbformat_minor": 2
}
